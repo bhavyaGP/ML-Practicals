{
 "cells": [
  {
   "cell_type": "code",
   "execution_count": 1,
   "metadata": {
    "_cell_guid": "b1076dfc-b9ad-4769-8c92-a6c4dae69d19",
    "_uuid": "8f2839f25d086af736a60e9eeb907d3b93b6e0e5",
    "execution": {
     "iopub.execute_input": "2024-10-20T11:46:42.809954Z",
     "iopub.status.busy": "2024-10-20T11:46:42.809485Z",
     "iopub.status.idle": "2024-10-20T11:46:42.815203Z",
     "shell.execute_reply": "2024-10-20T11:46:42.813905Z",
     "shell.execute_reply.started": "2024-10-20T11:46:42.809912Z"
    },
    "trusted": true
   },
   "outputs": [],
   "source": [
    "import pandas as pd"
   ]
  },
  {
   "cell_type": "code",
   "execution_count": null,
   "metadata": {
    "execution": {
     "iopub.execute_input": "2024-10-20T11:46:43.000281Z",
     "iopub.status.busy": "2024-10-20T11:46:42.999831Z",
     "iopub.status.idle": "2024-10-20T11:46:43.020634Z",
     "shell.execute_reply": "2024-10-20T11:46:43.019428Z",
     "shell.execute_reply.started": "2024-10-20T11:46:43.000237Z"
    },
    "trusted": true
   },
   "outputs": [],
   "source": [
    "df = pd.read_csv('/kaggle/input/sales-data/kaggle sale.csv')\n",
    "print(df.head())"
   ]
  },
  {
   "cell_type": "code",
   "execution_count": 22,
   "metadata": {
    "execution": {
     "iopub.execute_input": "2024-10-20T11:46:43.179124Z",
     "iopub.status.busy": "2024-10-20T11:46:43.178694Z",
     "iopub.status.idle": "2024-10-20T11:46:43.192463Z",
     "shell.execute_reply": "2024-10-20T11:46:43.191042Z",
     "shell.execute_reply.started": "2024-10-20T11:46:43.179082Z"
    },
    "trusted": true
   },
   "outputs": [
    {
     "name": "stdout",
     "output_type": "stream",
     "text": [
      "<class 'pandas.core.frame.DataFrame'>\n",
      "RangeIndex: 400 entries, 0 to 399\n",
      "Data columns (total 6 columns):\n",
      " #   Column           Non-Null Count  Dtype \n",
      "---  ------           --------------  ----- \n",
      " 0   User ID          400 non-null    int64 \n",
      " 1   Gender           400 non-null    object\n",
      " 2   Age              400 non-null    int64 \n",
      " 3   EstimatedSalary  400 non-null    int64 \n",
      " 4   Purchased        400 non-null    int64 \n",
      " 5   satisfied        400 non-null    object\n",
      "dtypes: int64(4), object(2)\n",
      "memory usage: 18.9+ KB\n",
      "None\n"
     ]
    }
   ],
   "source": [
    "print(df.info())"
   ]
  },
  {
   "cell_type": "code",
   "execution_count": 23,
   "metadata": {
    "execution": {
     "iopub.execute_input": "2024-10-20T11:46:43.369450Z",
     "iopub.status.busy": "2024-10-20T11:46:43.369033Z",
     "iopub.status.idle": "2024-10-20T11:46:43.378847Z",
     "shell.execute_reply": "2024-10-20T11:46:43.377627Z",
     "shell.execute_reply.started": "2024-10-20T11:46:43.369411Z"
    },
    "trusted": true
   },
   "outputs": [
    {
     "name": "stdout",
     "output_type": "stream",
     "text": [
      "   Gender  Age  EstimatedSalary  Purchased satisfied \n",
      "0    Male   19            19000          0         no\n",
      "1    Male   35            20000          0         no\n",
      "2  Female   26            43000          0         no\n",
      "3  Female   27            57000          0         no\n",
      "4    Male   19            76000          0         no\n"
     ]
    }
   ],
   "source": [
    "df = df.drop(columns = ['User ID'])\n",
    "print(df.head())"
   ]
  },
  {
   "cell_type": "code",
   "execution_count": 24,
   "metadata": {
    "execution": {
     "iopub.execute_input": "2024-10-20T11:46:43.540522Z",
     "iopub.status.busy": "2024-10-20T11:46:43.539460Z",
     "iopub.status.idle": "2024-10-20T11:46:43.545450Z",
     "shell.execute_reply": "2024-10-20T11:46:43.544225Z",
     "shell.execute_reply.started": "2024-10-20T11:46:43.540474Z"
    },
    "trusted": true
   },
   "outputs": [],
   "source": [
    "from sklearn.preprocessing import LabelEncoder\n",
    "le = LabelEncoder()"
   ]
  },
  {
   "cell_type": "code",
   "execution_count": 25,
   "metadata": {
    "execution": {
     "iopub.execute_input": "2024-10-20T11:46:43.699433Z",
     "iopub.status.busy": "2024-10-20T11:46:43.699010Z",
     "iopub.status.idle": "2024-10-20T11:46:43.708107Z",
     "shell.execute_reply": "2024-10-20T11:46:43.706224Z",
     "shell.execute_reply.started": "2024-10-20T11:46:43.699393Z"
    },
    "trusted": true
   },
   "outputs": [],
   "source": [
    "col = ['Gender','satisfied ']\n",
    "for i in col:\n",
    "    df[i] = le.fit_transform(df[i])"
   ]
  },
  {
   "cell_type": "code",
   "execution_count": 26,
   "metadata": {
    "execution": {
     "iopub.execute_input": "2024-10-20T11:46:44.149199Z",
     "iopub.status.busy": "2024-10-20T11:46:44.148770Z",
     "iopub.status.idle": "2024-10-20T11:46:44.157662Z",
     "shell.execute_reply": "2024-10-20T11:46:44.156474Z",
     "shell.execute_reply.started": "2024-10-20T11:46:44.149160Z"
    },
    "trusted": true
   },
   "outputs": [
    {
     "name": "stdout",
     "output_type": "stream",
     "text": [
      "   Gender  Age  EstimatedSalary  Purchased  satisfied \n",
      "0       1   19            19000          0           0\n",
      "1       1   35            20000          0           0\n",
      "2       0   26            43000          0           0\n",
      "3       0   27            57000          0           0\n",
      "4       1   19            76000          0           0\n"
     ]
    }
   ],
   "source": [
    "print(df.head())"
   ]
  },
  {
   "cell_type": "code",
   "execution_count": 27,
   "metadata": {
    "execution": {
     "iopub.execute_input": "2024-10-20T11:46:44.419554Z",
     "iopub.status.busy": "2024-10-20T11:46:44.418709Z",
     "iopub.status.idle": "2024-10-20T11:46:44.425753Z",
     "shell.execute_reply": "2024-10-20T11:46:44.424567Z",
     "shell.execute_reply.started": "2024-10-20T11:46:44.419488Z"
    },
    "trusted": true
   },
   "outputs": [],
   "source": [
    "x = df[['Gender','Age','EstimatedSalary','Purchased']]\n",
    "y = df['satisfied ']"
   ]
  },
  {
   "cell_type": "code",
   "execution_count": 28,
   "metadata": {
    "execution": {
     "iopub.execute_input": "2024-10-20T11:46:44.979562Z",
     "iopub.status.busy": "2024-10-20T11:46:44.978748Z",
     "iopub.status.idle": "2024-10-20T11:46:44.986768Z",
     "shell.execute_reply": "2024-10-20T11:46:44.985600Z",
     "shell.execute_reply.started": "2024-10-20T11:46:44.979493Z"
    },
    "trusted": true
   },
   "outputs": [
    {
     "name": "stdout",
     "output_type": "stream",
     "text": [
      "   Gender  Age  EstimatedSalary  Purchased\n",
      "0       1   19            19000          0\n",
      "1       1   35            20000          0\n",
      "2       0   26            43000          0\n",
      "3       0   27            57000          0\n",
      "4       1   19            76000          0\n"
     ]
    }
   ],
   "source": [
    "print(x.head())"
   ]
  },
  {
   "cell_type": "code",
   "execution_count": 29,
   "metadata": {
    "execution": {
     "iopub.execute_input": "2024-10-20T11:46:45.819262Z",
     "iopub.status.busy": "2024-10-20T11:46:45.818859Z",
     "iopub.status.idle": "2024-10-20T11:46:45.825905Z",
     "shell.execute_reply": "2024-10-20T11:46:45.824571Z",
     "shell.execute_reply.started": "2024-10-20T11:46:45.819224Z"
    },
    "trusted": true
   },
   "outputs": [
    {
     "name": "stdout",
     "output_type": "stream",
     "text": [
      "0    0\n",
      "1    0\n",
      "2    0\n",
      "3    0\n",
      "4    0\n",
      "Name: satisfied , dtype: int64\n"
     ]
    }
   ],
   "source": [
    "print(y.head())"
   ]
  },
  {
   "cell_type": "code",
   "execution_count": 30,
   "metadata": {
    "execution": {
     "iopub.execute_input": "2024-10-20T11:46:46.399469Z",
     "iopub.status.busy": "2024-10-20T11:46:46.399018Z",
     "iopub.status.idle": "2024-10-20T11:46:46.404996Z",
     "shell.execute_reply": "2024-10-20T11:46:46.403732Z",
     "shell.execute_reply.started": "2024-10-20T11:46:46.399425Z"
    },
    "trusted": true
   },
   "outputs": [],
   "source": [
    "from sklearn.model_selection import train_test_split"
   ]
  },
  {
   "cell_type": "code",
   "execution_count": 31,
   "metadata": {
    "execution": {
     "iopub.execute_input": "2024-10-20T11:46:47.009255Z",
     "iopub.status.busy": "2024-10-20T11:46:47.008829Z",
     "iopub.status.idle": "2024-10-20T11:46:47.017620Z",
     "shell.execute_reply": "2024-10-20T11:46:47.016400Z",
     "shell.execute_reply.started": "2024-10-20T11:46:47.009214Z"
    },
    "trusted": true
   },
   "outputs": [],
   "source": [
    "x_train, x_test, y_train, y_test = train_test_split(x,y,random_state=42)"
   ]
  },
  {
   "cell_type": "code",
   "execution_count": 32,
   "metadata": {
    "execution": {
     "iopub.execute_input": "2024-10-20T11:46:48.845029Z",
     "iopub.status.busy": "2024-10-20T11:46:48.844222Z",
     "iopub.status.idle": "2024-10-20T11:46:48.852417Z",
     "shell.execute_reply": "2024-10-20T11:46:48.851229Z",
     "shell.execute_reply.started": "2024-10-20T11:46:48.844956Z"
    },
    "trusted": true
   },
   "outputs": [
    {
     "name": "stdout",
     "output_type": "stream",
     "text": [
      "(300, 4)\n",
      "(300,)\n",
      "(100, 4)\n",
      "(100,)\n"
     ]
    }
   ],
   "source": [
    "print(x_train.shape)\n",
    "print(y_train.shape)\n",
    "print(x_test.shape)\n",
    "print(y_test.shape)"
   ]
  },
  {
   "cell_type": "code",
   "execution_count": 33,
   "metadata": {
    "execution": {
     "iopub.execute_input": "2024-10-20T11:48:30.219581Z",
     "iopub.status.busy": "2024-10-20T11:48:30.219098Z",
     "iopub.status.idle": "2024-10-20T11:48:30.291636Z",
     "shell.execute_reply": "2024-10-20T11:48:30.290340Z",
     "shell.execute_reply.started": "2024-10-20T11:48:30.219539Z"
    },
    "trusted": true
   },
   "outputs": [],
   "source": [
    "from sklearn.ensemble import RandomForestClassifier"
   ]
  },
  {
   "cell_type": "code",
   "execution_count": 34,
   "metadata": {
    "execution": {
     "iopub.execute_input": "2024-10-20T11:49:52.135426Z",
     "iopub.status.busy": "2024-10-20T11:49:52.134958Z",
     "iopub.status.idle": "2024-10-20T11:49:52.141682Z",
     "shell.execute_reply": "2024-10-20T11:49:52.140313Z",
     "shell.execute_reply.started": "2024-10-20T11:49:52.135383Z"
    },
    "trusted": true
   },
   "outputs": [],
   "source": [
    "rfc = RandomForestClassifier(n_estimators=100, criterion='gini',max_features='sqrt',random_state=42)"
   ]
  },
  {
   "cell_type": "code",
   "execution_count": 35,
   "metadata": {
    "execution": {
     "iopub.execute_input": "2024-10-20T11:50:22.209624Z",
     "iopub.status.busy": "2024-10-20T11:50:22.209168Z",
     "iopub.status.idle": "2024-10-20T11:50:22.465118Z",
     "shell.execute_reply": "2024-10-20T11:50:22.463952Z",
     "shell.execute_reply.started": "2024-10-20T11:50:22.209582Z"
    },
    "trusted": true
   },
   "outputs": [
    {
     "data": {
      "text/html": [
       "<style>#sk-container-id-1 {color: black;background-color: white;}#sk-container-id-1 pre{padding: 0;}#sk-container-id-1 div.sk-toggleable {background-color: white;}#sk-container-id-1 label.sk-toggleable__label {cursor: pointer;display: block;width: 100%;margin-bottom: 0;padding: 0.3em;box-sizing: border-box;text-align: center;}#sk-container-id-1 label.sk-toggleable__label-arrow:before {content: \"▸\";float: left;margin-right: 0.25em;color: #696969;}#sk-container-id-1 label.sk-toggleable__label-arrow:hover:before {color: black;}#sk-container-id-1 div.sk-estimator:hover label.sk-toggleable__label-arrow:before {color: black;}#sk-container-id-1 div.sk-toggleable__content {max-height: 0;max-width: 0;overflow: hidden;text-align: left;background-color: #f0f8ff;}#sk-container-id-1 div.sk-toggleable__content pre {margin: 0.2em;color: black;border-radius: 0.25em;background-color: #f0f8ff;}#sk-container-id-1 input.sk-toggleable__control:checked~div.sk-toggleable__content {max-height: 200px;max-width: 100%;overflow: auto;}#sk-container-id-1 input.sk-toggleable__control:checked~label.sk-toggleable__label-arrow:before {content: \"▾\";}#sk-container-id-1 div.sk-estimator input.sk-toggleable__control:checked~label.sk-toggleable__label {background-color: #d4ebff;}#sk-container-id-1 div.sk-label input.sk-toggleable__control:checked~label.sk-toggleable__label {background-color: #d4ebff;}#sk-container-id-1 input.sk-hidden--visually {border: 0;clip: rect(1px 1px 1px 1px);clip: rect(1px, 1px, 1px, 1px);height: 1px;margin: -1px;overflow: hidden;padding: 0;position: absolute;width: 1px;}#sk-container-id-1 div.sk-estimator {font-family: monospace;background-color: #f0f8ff;border: 1px dotted black;border-radius: 0.25em;box-sizing: border-box;margin-bottom: 0.5em;}#sk-container-id-1 div.sk-estimator:hover {background-color: #d4ebff;}#sk-container-id-1 div.sk-parallel-item::after {content: \"\";width: 100%;border-bottom: 1px solid gray;flex-grow: 1;}#sk-container-id-1 div.sk-label:hover label.sk-toggleable__label {background-color: #d4ebff;}#sk-container-id-1 div.sk-serial::before {content: \"\";position: absolute;border-left: 1px solid gray;box-sizing: border-box;top: 0;bottom: 0;left: 50%;z-index: 0;}#sk-container-id-1 div.sk-serial {display: flex;flex-direction: column;align-items: center;background-color: white;padding-right: 0.2em;padding-left: 0.2em;position: relative;}#sk-container-id-1 div.sk-item {position: relative;z-index: 1;}#sk-container-id-1 div.sk-parallel {display: flex;align-items: stretch;justify-content: center;background-color: white;position: relative;}#sk-container-id-1 div.sk-item::before, #sk-container-id-1 div.sk-parallel-item::before {content: \"\";position: absolute;border-left: 1px solid gray;box-sizing: border-box;top: 0;bottom: 0;left: 50%;z-index: -1;}#sk-container-id-1 div.sk-parallel-item {display: flex;flex-direction: column;z-index: 1;position: relative;background-color: white;}#sk-container-id-1 div.sk-parallel-item:first-child::after {align-self: flex-end;width: 50%;}#sk-container-id-1 div.sk-parallel-item:last-child::after {align-self: flex-start;width: 50%;}#sk-container-id-1 div.sk-parallel-item:only-child::after {width: 0;}#sk-container-id-1 div.sk-dashed-wrapped {border: 1px dashed gray;margin: 0 0.4em 0.5em 0.4em;box-sizing: border-box;padding-bottom: 0.4em;background-color: white;}#sk-container-id-1 div.sk-label label {font-family: monospace;font-weight: bold;display: inline-block;line-height: 1.2em;}#sk-container-id-1 div.sk-label-container {text-align: center;}#sk-container-id-1 div.sk-container {/* jupyter's `normalize.less` sets `[hidden] { display: none; }` but bootstrap.min.css set `[hidden] { display: none !important; }` so we also need the `!important` here to be able to override the default hidden behavior on the sphinx rendered scikit-learn.org. See: https://github.com/scikit-learn/scikit-learn/issues/21755 */display: inline-block !important;position: relative;}#sk-container-id-1 div.sk-text-repr-fallback {display: none;}</style><div id=\"sk-container-id-1\" class=\"sk-top-container\"><div class=\"sk-text-repr-fallback\"><pre>RandomForestClassifier(random_state=42)</pre><b>In a Jupyter environment, please rerun this cell to show the HTML representation or trust the notebook. <br />On GitHub, the HTML representation is unable to render, please try loading this page with nbviewer.org.</b></div><div class=\"sk-container\" hidden><div class=\"sk-item\"><div class=\"sk-estimator sk-toggleable\"><input class=\"sk-toggleable__control sk-hidden--visually\" id=\"sk-estimator-id-1\" type=\"checkbox\" checked><label for=\"sk-estimator-id-1\" class=\"sk-toggleable__label sk-toggleable__label-arrow\">RandomForestClassifier</label><div class=\"sk-toggleable__content\"><pre>RandomForestClassifier(random_state=42)</pre></div></div></div></div></div>"
      ],
      "text/plain": [
       "RandomForestClassifier(random_state=42)"
      ]
     },
     "execution_count": 35,
     "metadata": {},
     "output_type": "execute_result"
    }
   ],
   "source": [
    "rfc.fit(x_train,y_train)"
   ]
  },
  {
   "cell_type": "code",
   "execution_count": 36,
   "metadata": {
    "execution": {
     "iopub.execute_input": "2024-10-20T11:50:40.120406Z",
     "iopub.status.busy": "2024-10-20T11:50:40.119835Z",
     "iopub.status.idle": "2024-10-20T11:50:40.142725Z",
     "shell.execute_reply": "2024-10-20T11:50:40.141496Z",
     "shell.execute_reply.started": "2024-10-20T11:50:40.120351Z"
    },
    "trusted": true
   },
   "outputs": [],
   "source": [
    "prediction = rfc.predict(x_test)"
   ]
  },
  {
   "cell_type": "code",
   "execution_count": 37,
   "metadata": {
    "execution": {
     "iopub.execute_input": "2024-10-20T11:52:05.340192Z",
     "iopub.status.busy": "2024-10-20T11:52:05.339726Z",
     "iopub.status.idle": "2024-10-20T11:52:05.348474Z",
     "shell.execute_reply": "2024-10-20T11:52:05.346917Z",
     "shell.execute_reply.started": "2024-10-20T11:52:05.340149Z"
    },
    "trusted": true
   },
   "outputs": [],
   "source": [
    "from sklearn.metrics import accuracy_score, classification_report, confusion_matrix"
   ]
  },
  {
   "cell_type": "code",
   "execution_count": 39,
   "metadata": {
    "execution": {
     "iopub.execute_input": "2024-10-20T11:52:47.859737Z",
     "iopub.status.busy": "2024-10-20T11:52:47.859292Z",
     "iopub.status.idle": "2024-10-20T11:52:47.868587Z",
     "shell.execute_reply": "2024-10-20T11:52:47.867305Z",
     "shell.execute_reply.started": "2024-10-20T11:52:47.859696Z"
    },
    "trusted": true
   },
   "outputs": [
    {
     "name": "stdout",
     "output_type": "stream",
     "text": [
      "Random Forest Classifier Accuracy: 0.74\n"
     ]
    }
   ],
   "source": [
    "print(\"Random Forest Classifier Accuracy:\", accuracy_score(y_test, prediction))"
   ]
  },
  {
   "cell_type": "code",
   "execution_count": 40,
   "metadata": {
    "execution": {
     "iopub.execute_input": "2024-10-20T11:53:00.959405Z",
     "iopub.status.busy": "2024-10-20T11:53:00.958965Z",
     "iopub.status.idle": "2024-10-20T11:53:00.979100Z",
     "shell.execute_reply": "2024-10-20T11:53:00.977977Z",
     "shell.execute_reply.started": "2024-10-20T11:53:00.959363Z"
    },
    "trusted": true
   },
   "outputs": [
    {
     "name": "stdout",
     "output_type": "stream",
     "text": [
      "Classification Report:\n",
      "               precision    recall  f1-score   support\n",
      "\n",
      "           0       0.59      0.55      0.57        31\n",
      "           1       0.80      0.83      0.81        69\n",
      "\n",
      "    accuracy                           0.74       100\n",
      "   macro avg       0.69      0.69      0.69       100\n",
      "weighted avg       0.74      0.74      0.74       100\n",
      "\n"
     ]
    }
   ],
   "source": [
    "print(\"Classification Report:\\n\", classification_report(y_test, prediction))"
   ]
  },
  {
   "cell_type": "code",
   "execution_count": 41,
   "metadata": {
    "execution": {
     "iopub.execute_input": "2024-10-20T11:53:12.819853Z",
     "iopub.status.busy": "2024-10-20T11:53:12.819386Z",
     "iopub.status.idle": "2024-10-20T11:53:12.830417Z",
     "shell.execute_reply": "2024-10-20T11:53:12.829095Z",
     "shell.execute_reply.started": "2024-10-20T11:53:12.819811Z"
    },
    "trusted": true
   },
   "outputs": [
    {
     "name": "stdout",
     "output_type": "stream",
     "text": [
      "Confusion Matrix:\n",
      " [[17 14]\n",
      " [12 57]]\n"
     ]
    }
   ],
   "source": [
    "print(\"Confusion Matrix:\\n\", confusion_matrix(y_test, prediction))"
   ]
  },
  {
   "cell_type": "markdown",
   "metadata": {},
   "source": [
    "# try with entropy as criterion"
   ]
  },
  {
   "cell_type": "code",
   "execution_count": 42,
   "metadata": {
    "execution": {
     "iopub.execute_input": "2024-10-20T11:55:39.620141Z",
     "iopub.status.busy": "2024-10-20T11:55:39.619708Z",
     "iopub.status.idle": "2024-10-20T11:55:39.626114Z",
     "shell.execute_reply": "2024-10-20T11:55:39.624862Z",
     "shell.execute_reply.started": "2024-10-20T11:55:39.620101Z"
    },
    "trusted": true
   },
   "outputs": [],
   "source": [
    "rfc_2 = RandomForestClassifier(n_estimators=100, criterion='entropy',max_features='sqrt',random_state=42)"
   ]
  },
  {
   "cell_type": "code",
   "execution_count": 43,
   "metadata": {
    "execution": {
     "iopub.execute_input": "2024-10-20T11:55:42.999360Z",
     "iopub.status.busy": "2024-10-20T11:55:42.998958Z",
     "iopub.status.idle": "2024-10-20T11:55:43.244432Z",
     "shell.execute_reply": "2024-10-20T11:55:43.243360Z",
     "shell.execute_reply.started": "2024-10-20T11:55:42.999322Z"
    },
    "trusted": true
   },
   "outputs": [
    {
     "data": {
      "text/html": [
       "<style>#sk-container-id-2 {color: black;background-color: white;}#sk-container-id-2 pre{padding: 0;}#sk-container-id-2 div.sk-toggleable {background-color: white;}#sk-container-id-2 label.sk-toggleable__label {cursor: pointer;display: block;width: 100%;margin-bottom: 0;padding: 0.3em;box-sizing: border-box;text-align: center;}#sk-container-id-2 label.sk-toggleable__label-arrow:before {content: \"▸\";float: left;margin-right: 0.25em;color: #696969;}#sk-container-id-2 label.sk-toggleable__label-arrow:hover:before {color: black;}#sk-container-id-2 div.sk-estimator:hover label.sk-toggleable__label-arrow:before {color: black;}#sk-container-id-2 div.sk-toggleable__content {max-height: 0;max-width: 0;overflow: hidden;text-align: left;background-color: #f0f8ff;}#sk-container-id-2 div.sk-toggleable__content pre {margin: 0.2em;color: black;border-radius: 0.25em;background-color: #f0f8ff;}#sk-container-id-2 input.sk-toggleable__control:checked~div.sk-toggleable__content {max-height: 200px;max-width: 100%;overflow: auto;}#sk-container-id-2 input.sk-toggleable__control:checked~label.sk-toggleable__label-arrow:before {content: \"▾\";}#sk-container-id-2 div.sk-estimator input.sk-toggleable__control:checked~label.sk-toggleable__label {background-color: #d4ebff;}#sk-container-id-2 div.sk-label input.sk-toggleable__control:checked~label.sk-toggleable__label {background-color: #d4ebff;}#sk-container-id-2 input.sk-hidden--visually {border: 0;clip: rect(1px 1px 1px 1px);clip: rect(1px, 1px, 1px, 1px);height: 1px;margin: -1px;overflow: hidden;padding: 0;position: absolute;width: 1px;}#sk-container-id-2 div.sk-estimator {font-family: monospace;background-color: #f0f8ff;border: 1px dotted black;border-radius: 0.25em;box-sizing: border-box;margin-bottom: 0.5em;}#sk-container-id-2 div.sk-estimator:hover {background-color: #d4ebff;}#sk-container-id-2 div.sk-parallel-item::after {content: \"\";width: 100%;border-bottom: 1px solid gray;flex-grow: 1;}#sk-container-id-2 div.sk-label:hover label.sk-toggleable__label {background-color: #d4ebff;}#sk-container-id-2 div.sk-serial::before {content: \"\";position: absolute;border-left: 1px solid gray;box-sizing: border-box;top: 0;bottom: 0;left: 50%;z-index: 0;}#sk-container-id-2 div.sk-serial {display: flex;flex-direction: column;align-items: center;background-color: white;padding-right: 0.2em;padding-left: 0.2em;position: relative;}#sk-container-id-2 div.sk-item {position: relative;z-index: 1;}#sk-container-id-2 div.sk-parallel {display: flex;align-items: stretch;justify-content: center;background-color: white;position: relative;}#sk-container-id-2 div.sk-item::before, #sk-container-id-2 div.sk-parallel-item::before {content: \"\";position: absolute;border-left: 1px solid gray;box-sizing: border-box;top: 0;bottom: 0;left: 50%;z-index: -1;}#sk-container-id-2 div.sk-parallel-item {display: flex;flex-direction: column;z-index: 1;position: relative;background-color: white;}#sk-container-id-2 div.sk-parallel-item:first-child::after {align-self: flex-end;width: 50%;}#sk-container-id-2 div.sk-parallel-item:last-child::after {align-self: flex-start;width: 50%;}#sk-container-id-2 div.sk-parallel-item:only-child::after {width: 0;}#sk-container-id-2 div.sk-dashed-wrapped {border: 1px dashed gray;margin: 0 0.4em 0.5em 0.4em;box-sizing: border-box;padding-bottom: 0.4em;background-color: white;}#sk-container-id-2 div.sk-label label {font-family: monospace;font-weight: bold;display: inline-block;line-height: 1.2em;}#sk-container-id-2 div.sk-label-container {text-align: center;}#sk-container-id-2 div.sk-container {/* jupyter's `normalize.less` sets `[hidden] { display: none; }` but bootstrap.min.css set `[hidden] { display: none !important; }` so we also need the `!important` here to be able to override the default hidden behavior on the sphinx rendered scikit-learn.org. See: https://github.com/scikit-learn/scikit-learn/issues/21755 */display: inline-block !important;position: relative;}#sk-container-id-2 div.sk-text-repr-fallback {display: none;}</style><div id=\"sk-container-id-2\" class=\"sk-top-container\"><div class=\"sk-text-repr-fallback\"><pre>RandomForestClassifier(criterion=&#x27;entropy&#x27;, random_state=42)</pre><b>In a Jupyter environment, please rerun this cell to show the HTML representation or trust the notebook. <br />On GitHub, the HTML representation is unable to render, please try loading this page with nbviewer.org.</b></div><div class=\"sk-container\" hidden><div class=\"sk-item\"><div class=\"sk-estimator sk-toggleable\"><input class=\"sk-toggleable__control sk-hidden--visually\" id=\"sk-estimator-id-2\" type=\"checkbox\" checked><label for=\"sk-estimator-id-2\" class=\"sk-toggleable__label sk-toggleable__label-arrow\">RandomForestClassifier</label><div class=\"sk-toggleable__content\"><pre>RandomForestClassifier(criterion=&#x27;entropy&#x27;, random_state=42)</pre></div></div></div></div></div>"
      ],
      "text/plain": [
       "RandomForestClassifier(criterion='entropy', random_state=42)"
      ]
     },
     "execution_count": 43,
     "metadata": {},
     "output_type": "execute_result"
    }
   ],
   "source": [
    "rfc_2.fit(x_train,y_train)"
   ]
  },
  {
   "cell_type": "code",
   "execution_count": 45,
   "metadata": {
    "execution": {
     "iopub.execute_input": "2024-10-20T11:55:58.890248Z",
     "iopub.status.busy": "2024-10-20T11:55:58.889824Z",
     "iopub.status.idle": "2024-10-20T11:55:58.909184Z",
     "shell.execute_reply": "2024-10-20T11:55:58.907738Z",
     "shell.execute_reply.started": "2024-10-20T11:55:58.890207Z"
    },
    "trusted": true
   },
   "outputs": [],
   "source": [
    "pred = rfc_2.predict(x_test)"
   ]
  },
  {
   "cell_type": "code",
   "execution_count": 46,
   "metadata": {
    "execution": {
     "iopub.execute_input": "2024-10-20T11:56:01.509840Z",
     "iopub.status.busy": "2024-10-20T11:56:01.508806Z",
     "iopub.status.idle": "2024-10-20T11:56:01.514861Z",
     "shell.execute_reply": "2024-10-20T11:56:01.513486Z",
     "shell.execute_reply.started": "2024-10-20T11:56:01.509788Z"
    },
    "trusted": true
   },
   "outputs": [],
   "source": [
    "from sklearn.metrics import accuracy_score, classification_report, confusion_matrix"
   ]
  },
  {
   "cell_type": "code",
   "execution_count": 47,
   "metadata": {
    "execution": {
     "iopub.execute_input": "2024-10-20T11:56:06.390257Z",
     "iopub.status.busy": "2024-10-20T11:56:06.389372Z",
     "iopub.status.idle": "2024-10-20T11:56:06.397817Z",
     "shell.execute_reply": "2024-10-20T11:56:06.396712Z",
     "shell.execute_reply.started": "2024-10-20T11:56:06.390209Z"
    },
    "trusted": true
   },
   "outputs": [
    {
     "name": "stdout",
     "output_type": "stream",
     "text": [
      "Random Forest Classifier Accuracy: 0.75\n"
     ]
    }
   ],
   "source": [
    "print(\"Random Forest Classifier Accuracy:\", accuracy_score(y_test, pred))"
   ]
  },
  {
   "cell_type": "code",
   "execution_count": 48,
   "metadata": {
    "execution": {
     "iopub.execute_input": "2024-10-20T11:56:07.189369Z",
     "iopub.status.busy": "2024-10-20T11:56:07.188817Z",
     "iopub.status.idle": "2024-10-20T11:56:07.207443Z",
     "shell.execute_reply": "2024-10-20T11:56:07.206286Z",
     "shell.execute_reply.started": "2024-10-20T11:56:07.189321Z"
    },
    "trusted": true
   },
   "outputs": [
    {
     "name": "stdout",
     "output_type": "stream",
     "text": [
      "Classification Report:\n",
      "               precision    recall  f1-score   support\n",
      "\n",
      "           0       0.61      0.55      0.58        31\n",
      "           1       0.81      0.84      0.82        69\n",
      "\n",
      "    accuracy                           0.75       100\n",
      "   macro avg       0.71      0.69      0.70       100\n",
      "weighted avg       0.74      0.75      0.75       100\n",
      "\n"
     ]
    }
   ],
   "source": [
    "print(\"Classification Report:\\n\", classification_report(y_test, pred))"
   ]
  },
  {
   "cell_type": "code",
   "execution_count": 49,
   "metadata": {
    "execution": {
     "iopub.execute_input": "2024-10-20T11:56:07.879636Z",
     "iopub.status.busy": "2024-10-20T11:56:07.879032Z",
     "iopub.status.idle": "2024-10-20T11:56:07.889043Z",
     "shell.execute_reply": "2024-10-20T11:56:07.887899Z",
     "shell.execute_reply.started": "2024-10-20T11:56:07.879571Z"
    },
    "trusted": true
   },
   "outputs": [
    {
     "name": "stdout",
     "output_type": "stream",
     "text": [
      "Confusion Matrix:\n",
      " [[17 14]\n",
      " [11 58]]\n"
     ]
    }
   ],
   "source": [
    "print(\"Confusion Matrix:\\n\", confusion_matrix(y_test, pred))"
   ]
  }
 ],
 "metadata": {
  "kaggle": {
   "accelerator": "none",
   "dataSources": [
    {
     "datasetId": 2698897,
     "sourceId": 4641621,
     "sourceType": "datasetVersion"
    }
   ],
   "dockerImageVersionId": 30786,
   "isGpuEnabled": false,
   "isInternetEnabled": true,
   "language": "python",
   "sourceType": "notebook"
  },
  "kernelspec": {
   "display_name": "myenv",
   "language": "python",
   "name": "python3"
  },
  "language_info": {
   "codemirror_mode": {
    "name": "ipython",
    "version": 3
   },
   "file_extension": ".py",
   "mimetype": "text/x-python",
   "name": "python",
   "nbconvert_exporter": "python",
   "pygments_lexer": "ipython3",
   "version": "3.11.5"
  }
 },
 "nbformat": 4,
 "nbformat_minor": 4
}
