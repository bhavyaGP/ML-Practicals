{
 "cells": [
  {
   "cell_type": "code",
   "execution_count": 2,
   "metadata": {
    "id": "17IVOVFKO_4K"
   },
   "outputs": [],
   "source": [
    "# Importing the NumPy library\n",
    "import numpy as np"
   ]
  },
  {
   "cell_type": "markdown",
   "metadata": {
    "id": "uaweP4-pPPx3"
   },
   "source": [
    "# 1. Creating Arrays"
   ]
  },
  {
   "cell_type": "code",
   "execution_count": 2,
   "metadata": {
    "colab": {
     "base_uri": "https://localhost:8080/"
    },
    "id": "InIPEm51PIgQ",
    "outputId": "25742462-3a27-43fb-b92c-417635270e44"
   },
   "outputs": [
    {
     "name": "stdout",
     "output_type": "stream",
     "text": [
      "1D Array: [1 2 3 4 5]\n"
     ]
    }
   ],
   "source": [
    "# Creating a 1D Array\n",
    "arr1 = np.array([1, 2, 3, 4, 5])\n",
    "print(\"1D Array:\", arr1)"
   ]
  },
  {
   "cell_type": "code",
   "execution_count": null,
   "metadata": {
    "colab": {
     "base_uri": "https://localhost:8080/"
    },
    "id": "RPW0wOkpPUlm",
    "outputId": "f73a07d0-abea-4434-b596-50254fdc305a"
   },
   "outputs": [],
   "source": [
    "# Creating a 2D Array (Matrix)\n",
    "arr2 = np.array([[1, 2, 3], [4, 5, 6]])\n",
    "print(\"2D Array:\\n\", arr2)"
   ]
  },
  {
   "cell_type": "code",
   "execution_count": null,
   "metadata": {
    "id": "mAmerPtXPXeR"
   },
   "outputs": [],
   "source": [
    "# Creating Arrays with Default Values\n",
    "zeros = np.zeros((3, 3))  # 3x3 matrix of zeros\n",
    "ones = np.ones((2, 2))  # 2x2 matrix of ones\n",
    "identity = np.eye(3)  # 3x3 identity matrix"
   ]
  },
  {
   "cell_type": "code",
   "execution_count": null,
   "metadata": {
    "colab": {
     "base_uri": "https://localhost:8080/"
    },
    "id": "ai1SSr1TPa0z",
    "outputId": "aeef95fd-1823-4ea7-e79d-ac3135a86bbf"
   },
   "outputs": [],
   "source": [
    "\n",
    "print(\"Zeros:\\n\", zeros)\n",
    "print(\"Ones:\\n\", ones)\n",
    "print(\"Identity Matrix:\\n\", identity)"
   ]
  },
  {
   "cell_type": "code",
   "execution_count": null,
   "metadata": {
    "colab": {
     "base_uri": "https://localhost:8080/"
    },
    "id": "lzAISQJOPeOw",
    "outputId": "4be238fa-171b-4a1f-85c0-71829b9d8fa1"
   },
   "outputs": [],
   "source": [
    "# Creating an Array with a Range of Values\n",
    "arr_range = np.arange(0, 10, 2)  # From 0 to 10 with step size 2\n",
    "print(\"Range Array:\", arr_range)"
   ]
  },
  {
   "cell_type": "code",
   "execution_count": null,
   "metadata": {
    "colab": {
     "base_uri": "https://localhost:8080/"
    },
    "id": "br32nGIGPgkC",
    "outputId": "766f5e49-feea-43ce-96ea-a295ffb4ba6a"
   },
   "outputs": [],
   "source": [
    "# Creating an Array with Linearly Spaced Values\n",
    "arr_linspace = np.linspace(0, 1, 5)  # 5 values between 0 and 1\n",
    "print(\"Linspace Array:\", arr_linspace)"
   ]
  },
  {
   "cell_type": "markdown",
   "metadata": {
    "id": "zmwR8qrqPoSw"
   },
   "source": [
    "# 2. Array Shape and Reshaping"
   ]
  },
  {
   "cell_type": "code",
   "execution_count": null,
   "metadata": {
    "colab": {
     "base_uri": "https://localhost:8080/"
    },
    "id": "1OqidKG6PlmW",
    "outputId": "e963ff2b-db13-4a87-e52d-d7b40f56362c"
   },
   "outputs": [],
   "source": [
    "# Check Shape of an Array\n",
    "print(\"Shape of arr2:\", arr2.shape)"
   ]
  },
  {
   "cell_type": "code",
   "execution_count": null,
   "metadata": {
    "colab": {
     "base_uri": "https://localhost:8080/"
    },
    "id": "CUwi4qQ1PrZF",
    "outputId": "aaf32cf6-b3ae-4c86-b8cf-1179944b9115"
   },
   "outputs": [],
   "source": [
    "# Reshape Array (Changing Dimensions)\n",
    "reshaped = arr1.reshape((5, 1))\n",
    "print(\"Reshaped Array:\\n\", reshaped)"
   ]
  },
  {
   "cell_type": "code",
   "execution_count": null,
   "metadata": {
    "colab": {
     "base_uri": "https://localhost:8080/"
    },
    "id": "aqofdR8hPtMa",
    "outputId": "312c855b-1629-4df7-8e1e-26bc15a012b4"
   },
   "outputs": [],
   "source": [
    "# Flatten a Multi-dimensional Array to 1D\n",
    "flattened = arr2.flatten()\n",
    "print(\"Flattened Array:\", flattened)"
   ]
  },
  {
   "cell_type": "markdown",
   "metadata": {
    "id": "qi1PhUGCPxdq"
   },
   "source": [
    "# 3. Basic Array Operations"
   ]
  },
  {
   "cell_type": "code",
   "execution_count": null,
   "metadata": {
    "colab": {
     "base_uri": "https://localhost:8080/"
    },
    "id": "h9Jwzof0Pu6v",
    "outputId": "cc9561da-7367-4b6d-dc73-664b90e93461"
   },
   "outputs": [],
   "source": [
    "# Element-wise Operations\n",
    "a = np.array([1, 2, 3])\n",
    "b = np.array([4, 5, 6])\n",
    "\n",
    "print(\"Addition:\", a + b)\n",
    "print(\"Subtraction:\", a - b)\n",
    "print(\"Multiplication:\", a * b)\n",
    "print(\"Division:\", a / b)"
   ]
  },
  {
   "cell_type": "code",
   "execution_count": null,
   "metadata": {
    "colab": {
     "base_uri": "https://localhost:8080/"
    },
    "id": "GWQeJetzP1s-",
    "outputId": "08e42435-d863-4952-b228-d0faec047ec4"
   },
   "outputs": [],
   "source": [
    "# Aggregate Functions\n",
    "print(\"Sum:\", np.sum(a))\n",
    "print(\"Mean:\", np.mean(a))\n",
    "print(\"Standard Deviation:\", np.std(a))\n",
    "print(\"Max:\", np.max(a))\n",
    "print(\"Min:\", np.min(a))"
   ]
  },
  {
   "cell_type": "markdown",
   "metadata": {
    "id": "WLY_GzpWP7Pt"
   },
   "source": [
    "# 4. Indexing and Slicing"
   ]
  },
  {
   "cell_type": "code",
   "execution_count": null,
   "metadata": {
    "colab": {
     "base_uri": "https://localhost:8080/"
    },
    "id": "YjjKNmMLP4LJ",
    "outputId": "356b216e-a415-45eb-867d-749a2516c55a"
   },
   "outputs": [],
   "source": [
    "# Accessing Elements\n",
    "print(\"First Element of arr1:\", arr1[0])\n",
    "print(\"Element at (1, 2) in arr2:\", arr2[1, 2])"
   ]
  },
  {
   "cell_type": "code",
   "execution_count": null,
   "metadata": {
    "colab": {
     "base_uri": "https://localhost:8080/"
    },
    "id": "Fkhty7UqP-oD",
    "outputId": "2ee31bb4-2876-42c1-9d65-e608d3ca033d"
   },
   "outputs": [],
   "source": [
    "# Slicing\n",
    "print(\"Slice arr1[1:4]:\", arr1[1:4])"
   ]
  },
  {
   "cell_type": "code",
   "execution_count": null,
   "metadata": {
    "colab": {
     "base_uri": "https://localhost:8080/"
    },
    "id": "cg2HC-UGQEuj",
    "outputId": "211a4d84-52ab-4478-f39c-d89059a3f96c"
   },
   "outputs": [],
   "source": [
    "# Boolean Indexing\n",
    "bool_idx = arr1 > 2  # Find elements greater than 2\n",
    "print(\"Boolean Index:\", bool_idx)\n",
    "print(\"Filtered Elements:\", arr1[bool_idx])"
   ]
  },
  {
   "cell_type": "markdown",
   "metadata": {
    "id": "3gXvDkmwQTUx"
   },
   "source": [
    "# 5. Random Data Generation"
   ]
  },
  {
   "cell_type": "code",
   "execution_count": 6,
   "metadata": {
    "colab": {
     "base_uri": "https://localhost:8080/"
    },
    "id": "UAIC6qtDQQYK",
    "outputId": "f0ed6668-1af5-4f0f-f233-31c431091a1d"
   },
   "outputs": [
    {
     "name": "stdout",
     "output_type": "stream",
     "text": [
      "Random Array:\n",
      " [[0.02448281 0.35054498 0.51603793]\n",
      " [0.88880507 0.89415919 0.38094639]\n",
      " [0.79417696 0.14590177 0.34332405]]\n"
     ]
    }
   ],
   "source": [
    "# Generate Random Numbers\n",
    "rand_arr = np.random.rand(3, 3)  # Uniform distribution between 0 and 1\n",
    "print(\"Random Array:\\n\", rand_arr)"
   ]
  },
  {
   "cell_type": "code",
   "execution_count": 4,
   "metadata": {
    "colab": {
     "base_uri": "https://localhost:8080/"
    },
    "id": "VgWdJkdOQWUx",
    "outputId": "0a42d68a-ac6b-481c-f98e-31ce1113f3b7"
   },
   "outputs": [
    {
     "name": "stdout",
     "output_type": "stream",
     "text": [
      "Random Integers:\n",
      " [[7 3]\n",
      " [2 6]]\n"
     ]
    }
   ],
   "source": [
    "# Generate Random Integers\n",
    "rand_int = np.random.randint(1, 10, (2, 2))  # Integers between 1 and 9\n",
    "print(\"Random Integers:\\n\", rand_int)"
   ]
  },
  {
   "cell_type": "code",
   "execution_count": 7,
   "metadata": {
    "colab": {
     "base_uri": "https://localhost:8080/"
    },
    "id": "qx_jzEBNQYIR",
    "outputId": "64421a58-533d-42d3-e132-1f44435bb6c4"
   },
   "outputs": [
    {
     "name": "stdout",
     "output_type": "stream",
     "text": [
      "Seeded Random Array: [0.37454012 0.95071431 0.73199394]\n"
     ]
    }
   ],
   "source": [
    "# Set Seed for Reproducibility\n",
    "np.random.seed(42)\n",
    "rand_seeded = np.random.rand(3)\n",
    "print(\"Seeded Random Array:\", rand_seeded)"
   ]
  },
  {
   "cell_type": "markdown",
   "metadata": {
    "id": "Dn_vo9V6Qf1I"
   },
   "source": [
    "# 6. Handling NaN and Infinite Values"
   ]
  },
  {
   "cell_type": "code",
   "execution_count": null,
   "metadata": {
    "id": "A5WLX3NwQd7u"
   },
   "outputs": [],
   "source": [
    "arr_with_nan = np.array([1, np.nan, 3, np.inf])"
   ]
  },
  {
   "cell_type": "code",
   "execution_count": null,
   "metadata": {
    "colab": {
     "base_uri": "https://localhost:8080/"
    },
    "id": "X9uBL-e6Qi6K",
    "outputId": "cae5203e-1806-400d-b518-f9fc78b9030b"
   },
   "outputs": [],
   "source": [
    "# Check for NaN and Infinite Values\n",
    "print(\"Is NaN:\", np.isnan(arr_with_nan))\n",
    "print(\"Is Infinite:\", np.isinf(arr_with_nan))"
   ]
  },
  {
   "cell_type": "code",
   "execution_count": null,
   "metadata": {
    "colab": {
     "base_uri": "https://localhost:8080/"
    },
    "id": "XkdtP1IVQkgY",
    "outputId": "07a990d1-dc4e-47ce-f951-b59570753af2"
   },
   "outputs": [],
   "source": [
    "# Replace NaN with 0\n",
    "arr_cleaned = np.nan_to_num(arr_with_nan, nan=0.0, posinf=1000)\n",
    "print(\"Cleaned Array:\", arr_cleaned)"
   ]
  },
  {
   "cell_type": "markdown",
   "metadata": {
    "id": "Z8bz151zQqqw"
   },
   "source": [
    "# 7. Linear Algebra Operations"
   ]
  },
  {
   "cell_type": "code",
   "execution_count": null,
   "metadata": {
    "colab": {
     "base_uri": "https://localhost:8080/"
    },
    "id": "Cb7ZcALSQpDC",
    "outputId": "43c67006-3529-4991-d661-b9552029afb7"
   },
   "outputs": [],
   "source": [
    "# Matrix Multiplication\n",
    "A = np.array([[1, 2], [3, 4]])\n",
    "B = np.array([[5, 6], [7, 8]])\n",
    "\n",
    "print(\"Matrix Multiplication:\\n\", np.dot(A, B))"
   ]
  },
  {
   "cell_type": "code",
   "execution_count": null,
   "metadata": {
    "colab": {
     "base_uri": "https://localhost:8080/"
    },
    "id": "YISQfvLCQuIM",
    "outputId": "9e68250b-920f-44c2-fb14-afe730307b72"
   },
   "outputs": [],
   "source": [
    "# Transpose of a Matrix\n",
    "print(\"Transpose:\\n\", A.T)"
   ]
  },
  {
   "cell_type": "code",
   "execution_count": null,
   "metadata": {
    "colab": {
     "base_uri": "https://localhost:8080/"
    },
    "id": "T3CUnfmTQ073",
    "outputId": "4335a766-bb34-4aa5-f32b-b16e0e1c3493"
   },
   "outputs": [],
   "source": [
    "# Determinant of a Matrix\n",
    "print(\"Determinant:\", np.linalg.det(A))"
   ]
  },
  {
   "cell_type": "code",
   "execution_count": null,
   "metadata": {
    "colab": {
     "base_uri": "https://localhost:8080/"
    },
    "id": "iHFPC9DrQ3Rs",
    "outputId": "cf66377a-529e-4cd4-e3a7-c76f1df301d2"
   },
   "outputs": [],
   "source": [
    "# Inverse of a Matrix\n",
    "print(\"Inverse:\\n\", np.linalg.inv(A))"
   ]
  },
  {
   "cell_type": "markdown",
   "metadata": {
    "id": "p9PqH-6YQ6so"
   },
   "source": [
    "# 8. Broadcasting and Vectorization"
   ]
  },
  {
   "cell_type": "code",
   "execution_count": null,
   "metadata": {
    "colab": {
     "base_uri": "https://localhost:8080/"
    },
    "id": "88nQWKRiQ4xZ",
    "outputId": "f976c0ad-48bb-4759-91af-be0aa9e78f2f"
   },
   "outputs": [],
   "source": [
    "# Broadcasting: Adding a scalar to an array\n",
    "arr = np.array([1, 2, 3])\n",
    "print(\"Broadcasted Addition:\", arr + 5)"
   ]
  },
  {
   "cell_type": "code",
   "execution_count": null,
   "metadata": {
    "colab": {
     "base_uri": "https://localhost:8080/"
    },
    "id": "bo1fnmQNQ-YL",
    "outputId": "90498552-4f6f-4c30-83f7-09c57b1765ce"
   },
   "outputs": [],
   "source": [
    "# Vectorized Operations (Faster than loops)\n",
    "arr_large = np.arange(1000000)\n",
    "%timeit arr_large + 1  # Vectorized operation"
   ]
  },
  {
   "cell_type": "code",
   "execution_count": null,
   "metadata": {
    "colab": {
     "base_uri": "https://localhost:8080/"
    },
    "id": "2X6J1lWpRAiA",
    "outputId": "55fa3cf2-95f8-4edc-8df8-18be84bef2f6"
   },
   "outputs": [],
   "source": [
    "# Non-vectorized loop (for comparison)\n",
    "def non_vectorized(arr):\n",
    "    result = []\n",
    "    for i in arr:\n",
    "        result.append(i + 1)\n",
    "    return np.array(result)\n",
    "\n",
    "%timeit non_vectorized(arr_large)"
   ]
  },
  {
   "cell_type": "markdown",
   "metadata": {
    "id": "t-wx977URJBu"
   },
   "source": [
    "# 9. Saving and Loading Data"
   ]
  },
  {
   "cell_type": "code",
   "execution_count": null,
   "metadata": {
    "colab": {
     "base_uri": "https://localhost:8080/"
    },
    "id": "gIqR6u2MREOa",
    "outputId": "69999881-f1ec-47b1-dce1-080121df3f47"
   },
   "outputs": [],
   "source": [
    "# Save an Array to a File\n",
    "np.save('array.npy', arr1)\n",
    "print(\"Array saved to 'array.npy'.\")"
   ]
  },
  {
   "cell_type": "code",
   "execution_count": null,
   "metadata": {
    "colab": {
     "base_uri": "https://localhost:8080/"
    },
    "id": "RUIkF1-fRLec",
    "outputId": "cd045876-94c6-4379-ad2f-f7c7e4c90a8a"
   },
   "outputs": [],
   "source": [
    "# Load an Array from a File\n",
    "loaded_arr = np.load('array.npy')\n",
    "print(\"Loaded Array:\", loaded_arr)"
   ]
  },
  {
   "cell_type": "code",
   "execution_count": null,
   "metadata": {
    "colab": {
     "base_uri": "https://localhost:8080/"
    },
    "id": "fS7pvcFfROD0",
    "outputId": "e56f4324-9f2f-4aee-b11d-f7e7448d5bee"
   },
   "outputs": [],
   "source": [
    "# Save to a CSV File\n",
    "np.savetxt('array.csv', arr2, delimiter=',')\n",
    "print(\"Array saved to 'array.csv'.\")"
   ]
  },
  {
   "cell_type": "code",
   "execution_count": null,
   "metadata": {
    "colab": {
     "base_uri": "https://localhost:8080/"
    },
    "id": "ceP8DabtRPh8",
    "outputId": "c77721eb-e508-4197-af1a-47fe280dbeba"
   },
   "outputs": [],
   "source": [
    "# Load from a CSV File\n",
    "loaded_csv = np.loadtxt('array.csv', delimiter=',')\n",
    "print(\"Loaded CSV Array:\\n\", loaded_csv)"
   ]
  },
  {
   "cell_type": "markdown",
   "metadata": {
    "id": "1U-_tJB6RTFv"
   },
   "source": [
    "# 10. Performance Tips and Best Practices"
   ]
  },
  {
   "cell_type": "code",
   "execution_count": null,
   "metadata": {
    "colab": {
     "base_uri": "https://localhost:8080/"
    },
    "id": "qhIKps2SRRLr",
    "outputId": "1022f585-0b4a-4b04-c7fd-705fbb3c7cfa"
   },
   "outputs": [],
   "source": [
    "# Use np.where for Conditional Logic\n",
    "arr = np.array([1, 2, 3, 4, 5])\n",
    "result = np.where(arr % 2 == 0, 'Even', 'Odd')\n",
    "print(\"Conditional Logic Result:\", result)"
   ]
  },
  {
   "cell_type": "code",
   "execution_count": null,
   "metadata": {
    "colab": {
     "base_uri": "https://localhost:8080/"
    },
    "id": "DFeBipR6RVkx",
    "outputId": "53182b9f-7ace-4d09-ff83-f3c5e0b0aec1"
   },
   "outputs": [],
   "source": [
    "# Use np.concatenate to Join Arrays\n",
    "arr_a = np.array([1, 2, 3])\n",
    "arr_b = np.array([4, 5, 6])\n",
    "concatenated = np.concatenate([arr_a, arr_b])\n",
    "print(\"Concatenated Array:\", concatenated)"
   ]
  },
  {
   "cell_type": "code",
   "execution_count": null,
   "metadata": {
    "colab": {
     "base_uri": "https://localhost:8080/"
    },
    "id": "4bvqhO2PRXaT",
    "outputId": "830d30f3-2515-47ab-c57b-a16a52e07741"
   },
   "outputs": [],
   "source": [
    "# Use np.unique to Find Unique Elements\n",
    "arr = np.array([1, 2, 2, 3, 3, 3])\n",
    "unique_elements = np.unique(arr)\n",
    "print(\"Unique Elements:\", unique_elements)"
   ]
  }
 ],
 "metadata": {
  "colab": {
   "provenance": []
  },
  "kernelspec": {
   "display_name": "myenv",
   "language": "python",
   "name": "python3"
  },
  "language_info": {
   "codemirror_mode": {
    "name": "ipython",
    "version": 3
   },
   "file_extension": ".py",
   "mimetype": "text/x-python",
   "name": "python",
   "nbconvert_exporter": "python",
   "pygments_lexer": "ipython3",
   "version": "3.11.5"
  }
 },
 "nbformat": 4,
 "nbformat_minor": 0
}
